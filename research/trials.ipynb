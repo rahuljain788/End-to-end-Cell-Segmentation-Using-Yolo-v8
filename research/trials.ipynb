{
 "cells": [
  {
   "cell_type": "code",
   "execution_count": 3,
   "id": "84783123",
   "metadata": {},
   "outputs": [],
   "source": [
    "import gdown\n",
    "import os"
   ]
  },
  {
   "cell_type": "code",
   "execution_count": 4,
   "id": "cd935397",
   "metadata": {},
   "outputs": [
    {
     "data": {
      "text/plain": [
       "'C:\\\\Users\\\\RahulJain\\\\Learning\\\\PycharmProjects\\\\End-to-end-Cell-Segmentation-Using-Yolo-v8\\\\research'"
      ]
     },
     "execution_count": 4,
     "metadata": {},
     "output_type": "execute_result"
    }
   ],
   "source": [
    "%pwd"
   ]
  },
  {
   "cell_type": "code",
   "execution_count": 5,
   "id": "d45345d7",
   "metadata": {},
   "outputs": [],
   "source": [
    "os.chdir(\"../\")"
   ]
  },
  {
   "cell_type": "code",
   "execution_count": 6,
   "id": "632bd8a0",
   "metadata": {},
   "outputs": [
    {
     "data": {
      "text/plain": [
       "'C:\\\\Users\\\\RahulJain\\\\Learning\\\\PycharmProjects\\\\End-to-end-Cell-Segmentation-Using-Yolo-v8'"
      ]
     },
     "execution_count": 6,
     "metadata": {},
     "output_type": "execute_result"
    }
   ],
   "source": [
    "%pwd"
   ]
  },
  {
   "cell_type": "code",
   "execution_count": 7,
   "id": "9d9318f3",
   "metadata": {},
   "outputs": [],
   "source": [
    "url = \"https://drive.google.com/file/d/1dkVY_2Bc9JXSSfKBClR9ad-jnd9ZpDWm/view?usp=sharing\""
   ]
  },
  {
   "cell_type": "code",
   "execution_count": 8,
   "id": "dbbf8942",
   "metadata": {},
   "outputs": [
    {
     "data": {
      "text/plain": [
       "'1dkVY_2Bc9JXSSfKBClR9ad-jnd9ZpDWm'"
      ]
     },
     "execution_count": 8,
     "metadata": {},
     "output_type": "execute_result"
    }
   ],
   "source": [
    "file_id = url.split(\"/\")[-2]\n",
    "file_id"
   ]
  },
  {
   "cell_type": "code",
   "execution_count": 9,
   "id": "057fc2ed",
   "metadata": {},
   "outputs": [
    {
     "name": "stderr",
     "output_type": "stream",
     "text": [
      "Downloading...\n",
      "From: https://drive.google.com/uc?/export=download&id=1dkVY_2Bc9JXSSfKBClR9ad-jnd9ZpDWm\n",
      "To: C:\\Users\\RahulJain\\Learning\\PycharmProjects\\End-to-end-Cell-Segmentation-Using-Yolo-v8\\data\\cell_data.zip\n",
      "100%|███████████████████████████████████████████████████████████████████████████████████████████████████████████████████| 147k/147k [00:00<00:00, 4.69MB/s]\n"
     ]
    },
    {
     "data": {
      "text/plain": [
       "'data/cell_data.zip'"
      ]
     },
     "execution_count": 9,
     "metadata": {},
     "output_type": "execute_result"
    }
   ],
   "source": [
    "prefix = \"https://drive.google.com/uc?/export=download&id=\"\n",
    "gdown.download(prefix+file_id, \"data/cell_data.zip\")"
   ]
  },
  {
   "cell_type": "code",
   "execution_count": null,
   "id": "29faa316",
   "metadata": {},
   "outputs": [],
   "source": []
  }
 ],
 "metadata": {
  "kernelspec": {
   "display_name": "Python 3 (ipykernel)",
   "language": "python",
   "name": "python3"
  },
  "language_info": {
   "codemirror_mode": {
    "name": "ipython",
    "version": 3
   },
   "file_extension": ".py",
   "mimetype": "text/x-python",
   "name": "python",
   "nbconvert_exporter": "python",
   "pygments_lexer": "ipython3",
   "version": "3.10.9"
  }
 },
 "nbformat": 4,
 "nbformat_minor": 5
}
